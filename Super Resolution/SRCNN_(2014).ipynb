{
  "nbformat": 4,
  "nbformat_minor": 0,
  "metadata": {
    "colab": {
      "name": "SRCNN (2014).ipynb",
      "provenance": [],
      "collapsed_sections": []
    },
    "kernelspec": {
      "name": "python3",
      "display_name": "Python 3"
    },
    "language_info": {
      "name": "python"
    },
    "accelerator": "GPU",
    "gpuClass": "standard"
  },
  "cells": [
    {
      "cell_type": "code",
      "source": [
        "# Google Drive를 srcnn이라는 디렉토리 이름으로 Mount 시행\n",
        "from google.colab import drive\n",
        "drive.mount('srcnn')"
      ],
      "metadata": {
        "colab": {
          "base_uri": "https://localhost:8080/"
        },
        "id": "5KxGH_z6csEh",
        "outputId": "15236e48-c0e5-42e8-894f-fa94278ced6f"
      },
      "execution_count": 1,
      "outputs": [
        {
          "output_type": "stream",
          "name": "stdout",
          "text": [
            "Mounted at srcnn\n"
          ]
        }
      ]
    },
    {
      "cell_type": "code",
      "execution_count": 2,
      "metadata": {
        "id": "4lSJa5M7cRuB"
      },
      "outputs": [],
      "source": [
        "# 필요한 module import하기\n",
        "import torch\n",
        "import matplotlib\n",
        "import matplotlib.pyplot as plt\n",
        "import time\n",
        "import h5py\n",
        "import srcnn\n",
        "import torch.optim as optim\n",
        "import torch.nn as nn\n",
        "import numpy as np\n",
        "import math\n",
        "from torchvision.transforms import ToPILImage\n",
        "from torch.utils.data import DataLoader, Dataset\n",
        "from tqdm import tqdm\n",
        "from sklearn.model_selection import train_test_split\n",
        "from torchvision.utils import save_image\n",
        "%matplotlib inline\n",
        "\n",
        "import torch.nn as nn\n",
        "import torch.nn.functional as F\n",
        "import time\n",
        "\n",
        "# Pytorch device 정의하기\n",
        "device = torch.device('cuda' if torch.cuda.is_available() else 'cpu')"
      ]
    },
    {
      "cell_type": "code",
      "source": [
        "# 디렉토리 이동\n",
        "!cd /content\n",
        "\n",
        "# 데이터를 저장할 폴더 생성\n",
        "!mkdir data\n",
        "\n",
        "# 압축 풀기\n",
        "!unzip /content/srcnn/MyDrive/input.zip -d /content/data"
      ],
      "metadata": {
        "colab": {
          "base_uri": "https://localhost:8080/"
        },
        "id": "Y6sU70gpch8-",
        "outputId": "49b8fbca-d392-41b3-c035-a14429bf2cce"
      },
      "execution_count": 3,
      "outputs": [
        {
          "output_type": "stream",
          "name": "stdout",
          "text": [
            "Archive:  /content/srcnn/MyDrive/input.zip\n",
            "   creating: /content/data/bicubic_2x/\n",
            "  inflating: /content/data/bicubic_2x/baby_GT.bmp  \n",
            "  inflating: /content/data/bicubic_2x/bird_GT.bmp  \n",
            "  inflating: /content/data/bicubic_2x/butterfly_GT.bmp  \n",
            "  inflating: /content/data/bicubic_2x/head_GT.bmp  \n",
            "  inflating: /content/data/bicubic_2x/woman_GT.bmp  \n",
            "   creating: /content/data/Set5/\n",
            " extracting: /content/data/Set5/baby.png  \n",
            " extracting: /content/data/Set5/bird.png  \n",
            " extracting: /content/data/Set5/butterfly.png  \n",
            " extracting: /content/data/Set5/head.png  \n",
            "  inflating: /content/data/Set5/woman.png  \n",
            "   creating: /content/data/T91/\n",
            "  inflating: /content/data/T91/t1.png  \n",
            " extracting: /content/data/T91/t10.png  \n",
            " extracting: /content/data/T91/t11.png  \n",
            "  inflating: /content/data/T91/t12.png  \n",
            " extracting: /content/data/T91/t13.png  \n",
            " extracting: /content/data/T91/t14.png  \n",
            "  inflating: /content/data/T91/t15.png  \n",
            " extracting: /content/data/T91/t16.png  \n",
            " extracting: /content/data/T91/t17.png  \n",
            " extracting: /content/data/T91/t18.png  \n",
            " extracting: /content/data/T91/t19.png  \n",
            " extracting: /content/data/T91/t2.png  \n",
            "  inflating: /content/data/T91/t20.png  \n",
            " extracting: /content/data/T91/t21.png  \n",
            " extracting: /content/data/T91/t22.png  \n",
            " extracting: /content/data/T91/t23.png  \n",
            " extracting: /content/data/T91/t24.png  \n",
            " extracting: /content/data/T91/t25.png  \n",
            " extracting: /content/data/T91/t26.png  \n",
            " extracting: /content/data/T91/t27.png  \n",
            " extracting: /content/data/T91/t28.png  \n",
            " extracting: /content/data/T91/t29.png  \n",
            " extracting: /content/data/T91/t3.png  \n",
            " extracting: /content/data/T91/t30.png  \n",
            " extracting: /content/data/T91/t31.png  \n",
            " extracting: /content/data/T91/t32.png  \n",
            " extracting: /content/data/T91/t33.png  \n",
            "  inflating: /content/data/T91/t34.png  \n",
            "  inflating: /content/data/T91/t35.png  \n",
            "  inflating: /content/data/T91/t36.png  \n",
            " extracting: /content/data/T91/t37.png  \n",
            " extracting: /content/data/T91/t38.png  \n",
            " extracting: /content/data/T91/t39.png  \n",
            " extracting: /content/data/T91/t4.png  \n",
            " extracting: /content/data/T91/t40.png  \n",
            "  inflating: /content/data/T91/t42.png  \n",
            " extracting: /content/data/T91/t43.png  \n",
            " extracting: /content/data/T91/t44.png  \n",
            " extracting: /content/data/T91/t45.png  \n",
            " extracting: /content/data/T91/t46.png  \n",
            " extracting: /content/data/T91/t47.png  \n",
            " extracting: /content/data/T91/t48.png  \n",
            " extracting: /content/data/T91/t49.png  \n",
            "  inflating: /content/data/T91/t5.png  \n",
            " extracting: /content/data/T91/t50.png  \n",
            " extracting: /content/data/T91/t51.png  \n",
            " extracting: /content/data/T91/t52.png  \n",
            "  inflating: /content/data/T91/t53.png  \n",
            " extracting: /content/data/T91/t54.png  \n",
            "  inflating: /content/data/T91/t55.png  \n",
            "  inflating: /content/data/T91/t56.png  \n",
            "  inflating: /content/data/T91/t57.png  \n",
            " extracting: /content/data/T91/t58.png  \n",
            " extracting: /content/data/T91/t59.png  \n",
            " extracting: /content/data/T91/t6.png  \n",
            "  inflating: /content/data/T91/t60.png  \n",
            " extracting: /content/data/T91/t61.png  \n",
            " extracting: /content/data/T91/t62.png  \n",
            " extracting: /content/data/T91/t63.png  \n",
            "  inflating: /content/data/T91/t64.png  \n",
            "  inflating: /content/data/T91/t65.png  \n",
            " extracting: /content/data/T91/t66.png  \n",
            " extracting: /content/data/T91/t7.png  \n",
            " extracting: /content/data/T91/t8.png  \n",
            " extracting: /content/data/T91/t9.png  \n",
            " extracting: /content/data/T91/tt1.png  \n",
            " extracting: /content/data/T91/tt10.png  \n",
            "  inflating: /content/data/T91/tt12.png  \n",
            " extracting: /content/data/T91/tt13.png  \n",
            "  inflating: /content/data/T91/tt14.png  \n",
            " extracting: /content/data/T91/tt15.png  \n",
            "  inflating: /content/data/T91/tt16.png  \n",
            " extracting: /content/data/T91/tt17.png  \n",
            "  inflating: /content/data/T91/tt18.png  \n",
            "  inflating: /content/data/T91/tt19.png  \n",
            "  inflating: /content/data/T91/tt2.png  \n",
            " extracting: /content/data/T91/tt20.png  \n",
            " extracting: /content/data/T91/tt21.png  \n",
            " extracting: /content/data/T91/tt22.png  \n",
            " extracting: /content/data/T91/tt23.png  \n",
            "  inflating: /content/data/T91/tt24.png  \n",
            " extracting: /content/data/T91/tt25.png  \n",
            " extracting: /content/data/T91/tt26.png  \n",
            " extracting: /content/data/T91/tt27.png  \n",
            " extracting: /content/data/T91/tt3.png  \n",
            " extracting: /content/data/T91/tt4.png  \n",
            " extracting: /content/data/T91/tt5.png  \n",
            " extracting: /content/data/T91/tt6.png  \n",
            " extracting: /content/data/T91/tt7.png  \n",
            " extracting: /content/data/T91/tt8.png  \n",
            "  inflating: /content/data/T91/tt9.png  \n",
            "  inflating: /content/data/train_mscale.h5  \n"
          ]
        }
      ]
    },
    {
      "cell_type": "code",
      "source": [
        "# 입력 이미지의 차원 설정하기\n",
        "input_h, input_w = 33, 33\n",
        "out_h, out_w = 33,33\n",
        "\n",
        "# Python에서 HDF5 바이너리 데이터 포맷을 사용하기 위한 사용법은 다음과 같다.\n",
        "file = h5py.File(\"/content/data/train_mscale.h5\")\n",
        "in_train = file['data'][:] # 입력 이미지\n",
        "out_train = file['label'][:] # 출력 이미지\n",
        "file.close() # File Stream 닫기\n",
        "\n",
        "# in_train, out_train은 (21824, 1, 33, 33)의 차원을 가진다\n",
        "# 이 값들을 연산의 편의를 위하여 float32 Type으로 변환한다\n",
        "in_train = in_train.astype('float32')\n",
        "out_train = out_train.astype('float32')\n",
        "\n",
        "# train Dataset : validation Dataset = 0.75 : 0.25 비율로 분할한다\n",
        "(x_train, x_val, y_train, y_val) = train_test_split(in_train, out_train, test_size=0.25 )\n",
        "print(x_train.shape)\n",
        "print(x_val.shape)\n",
        "print(y_train.shape)\n",
        "print(y_val.shape)"
      ],
      "metadata": {
        "colab": {
          "base_uri": "https://localhost:8080/"
        },
        "id": "6GqTk4lDd5nZ",
        "outputId": "c0f67101-f2b5-4b40-966f-d870967d2918"
      },
      "execution_count": 4,
      "outputs": [
        {
          "output_type": "stream",
          "name": "stdout",
          "text": [
            "(16368, 1, 33, 33)\n",
            "(5456, 1, 33, 33)\n",
            "(16368, 1, 33, 33)\n",
            "(5456, 1, 33, 33)\n"
          ]
        }
      ]
    },
    {
      "cell_type": "code",
      "source": [
        "# Custom Dataset 생성하기\n",
        "# Return되는 image는 Low-Resolution Image, label은 High-Resolution Image이다\n",
        "class SRCNNDataset(Dataset):\n",
        "  def __init__(self, image_data, labels):\n",
        "    self.image_data = image_data\n",
        "    self.labels = labels\n",
        "\n",
        "  def __len__(self):\n",
        "    return len(self.image_data)\n",
        "\n",
        "  def __getitem__(self, index):\n",
        "    image = self.image_data[index]\n",
        "    label = self.labels[index]\n",
        "    return (torch.tensor(image, dtype=torch.float), torch.tensor(label, dtype=torch.float))"
      ],
      "metadata": {
        "id": "kJmfbEbNfvZg"
      },
      "execution_count": 5,
      "outputs": []
    },
    {
      "cell_type": "code",
      "source": [
        "# Dataset과 DataLoader를 정의한다\n",
        "train_ds = SRCNNDataset(x_train, y_train)\n",
        "val_ds = SRCNNDataset(x_val, y_val)\n",
        "\n",
        "train_dl = DataLoader(train_ds, batch_size=64, shuffle=True)\n",
        "val_dl = DataLoader(val_ds, batch_size=64, shuffle=True)"
      ],
      "metadata": {
        "id": "EwGEyu2LhDir"
      },
      "execution_count": 6,
      "outputs": []
    },
    {
      "cell_type": "code",
      "source": [
        "# DataLoader의 출력을 Test하고 시각화 하기\n",
        "for x,y in train_dl:\n",
        "  print(x.shape, y.shape)\n",
        "  break\n",
        "\n",
        "img = x[0]\n",
        "target = y[0]\n",
        "\n",
        "from torchvision.transforms.functional import to_pil_image\n",
        "\n",
        "plt.figure()\n",
        "plt.subplot(1,2,1)\n",
        "plt.imshow(to_pil_image(img), cmap=\"gray\")\n",
        "plt.title(\"train\")\n",
        "plt.subplot(1,2,2)\n",
        "plt.imshow(to_pil_image(target), cmap=\"gray\")\n",
        "plt.title(\"target\")"
      ],
      "metadata": {
        "colab": {
          "base_uri": "https://localhost:8080/",
          "height": 253
        },
        "id": "vuK4-z8Qh1Yv",
        "outputId": "6e8241ef-f3d0-4922-8c3c-3e130e159c4e"
      },
      "execution_count": 7,
      "outputs": [
        {
          "output_type": "stream",
          "name": "stdout",
          "text": [
            "torch.Size([64, 1, 33, 33]) torch.Size([64, 1, 33, 33])\n"
          ]
        },
        {
          "output_type": "execute_result",
          "data": {
            "text/plain": [
              "Text(0.5, 1.0, 'target')"
            ]
          },
          "metadata": {},
          "execution_count": 7
        },
        {
          "output_type": "display_data",
          "data": {
            "text/plain": [
              "<Figure size 432x288 with 2 Axes>"
            ],
            "image/png": "[encoded data removed]"
          },
          "metadata": {
            "needs_background": "light"
          }
        }
      ]
    },
    {
      "cell_type": "code",
      "source": [
        "# 본격적으로 SRCNN 구현하기\n",
        "class SRCNN(nn.Module):\n",
        "  def __init__(self):\n",
        "    super().__init__()\n",
        "\n",
        "    # padding_mode=\"replicate\"는 zero_pad가 아닌 주변 값을 복사하여 pad를 추가하는 방식이다\n",
        "    self.conv1 = nn.Conv2d(in_channels=1, out_channels=64, kernel_size=9, stride=1, padding=2, padding_mode=\"replicate\")\n",
        "    self.conv2 = nn.Conv2d(in_channels=64, out_channels=32, kernel_size=1, stride=1, padding=2, padding_mode=\"replicate\")\n",
        "    self.conv3 = nn.Conv2d(in_channels=32, out_channels=1, kernel_size=5, stride=1, padding=2, padding_mode=\"replicate\")\n",
        "\n",
        "  def forward(self, x):\n",
        "    x = F.relu(self.conv1(x))\n",
        "    x = F.relu(self.conv2(x))\n",
        "    x = self.conv3(x)\n",
        "\n",
        "    return x  "
      ],
      "metadata": {
        "id": "RmsKlmoLidZw"
      },
      "execution_count": 8,
      "outputs": []
    },
    {
      "cell_type": "code",
      "source": [
        "# 가중치 초기화 함수 정의\n",
        "def initialize_weights(model):\n",
        "    classname = model.__class__.__name__\n",
        "    if classname.find('Conv') != -1:\n",
        "        nn.init.normal_(model.weight.data, 0.0, 0.02)\n",
        "\n",
        "model = SRCNN().to(device)\n",
        "# 가중치 초기화 함수 적용하기\n",
        "model.apply(initialize_weights)"
      ],
      "metadata": {
        "colab": {
          "base_uri": "https://localhost:8080/"
        },
        "id": "1vkANswX1jj8",
        "outputId": "0df31a70-49c6-4440-de95-172987ca86f8"
      },
      "execution_count": 9,
      "outputs": [
        {
          "output_type": "execute_result",
          "data": {
            "text/plain": [
              "SRCNN(\n",
              "  (conv1): Conv2d(1, 64, kernel_size=(9, 9), stride=(1, 1), padding=(2, 2), padding_mode=replicate)\n",
              "  (conv2): Conv2d(64, 32, kernel_size=(1, 1), stride=(1, 1), padding=(2, 2), padding_mode=replicate)\n",
              "  (conv3): Conv2d(32, 1, kernel_size=(5, 5), stride=(1, 1), padding=(2, 2), padding_mode=replicate)\n",
              ")"
            ]
          },
          "metadata": {},
          "execution_count": 9
        }
      ]
    },
    {
      "cell_type": "code",
      "source": [
        "# 손실함수 : MSE Loss\n",
        "loss_func = nn.MSELoss()\n",
        "\n",
        "# optimizer 정의\n",
        "import torch.optim as optim\n",
        "optimizer = optim.Adam(model.parameters())"
      ],
      "metadata": {
        "id": "uDuwzT0a1xQ6"
      },
      "execution_count": 10,
      "outputs": []
    },
    {
      "cell_type": "code",
      "source": [
        "# 모델의 평가지표 : PSNR (Peak Signal-to-Noise Ratio)\n",
        "# 모델의 출력값과 high-resolution의 유사도를 측정한다\n",
        "# PSNR값이 크면 클 수록 좋은 것이다\n",
        "def psnr(label, outputs, max_val = 1):\n",
        "  label = label.cpu().detach().numpy()\n",
        "  outputs = outputs.cpu().detach().numpy()\n",
        "  img_diff = outputs - label\n",
        "  rmse = math.sqrt(np.mean(img_diff)**2)\n",
        "  \n",
        "  # label과 output이 완전히 일치하는 경우\n",
        "  if rmse == 0:\n",
        "    return 100\n",
        "  else:\n",
        "    psnr = 20 * math.log10(max_val/rmse)\n",
        "    return psnr"
      ],
      "metadata": {
        "id": "TKEarLNH17tG"
      },
      "execution_count": 11,
      "outputs": []
    },
    {
      "cell_type": "code",
      "source": [
        "# 학습을 위한 함수 정의하기\n",
        "def train(model, data_dl):\n",
        "  model.train()\n",
        "  running_loss = 0.0\n",
        "  running_psnr = 0.0\n",
        "\n",
        "  for ba, data in enumerate(data_dl):\n",
        "    image = data[0].to(device) # Low-Resolution Image\n",
        "    label = data[1].to(device) # High-Resolution Image\n",
        "\n",
        "    optimizer.zero_grad()\n",
        "    outputs = model(image)\n",
        "    loss = loss_func(outputs, label)\n",
        "    loss.backward()\n",
        "    optimizer.step()\n",
        "\n",
        "    running_loss += loss.item() # 하나의 batch동안의 total loss\n",
        "    batch_psnr = psnr(label, outputs)\n",
        "    running_psnr += batch_psnr\n",
        "  \n",
        "  final_loss = running_loss / len(data_dl.dataset) # 전체 데이터 개수로 나누어준다\n",
        "  final_psnr = running_psnr / int(len(train_ds)/data_dl.batch_size) # batch개수로 나누어준다\n",
        "  return final_loss, final_psnr"
      ],
      "metadata": {
        "id": "AVv8-Vk82tWa"
      },
      "execution_count": 12,
      "outputs": []
    },
    {
      "cell_type": "code",
      "source": [
        "# validation용 함수를 정의한다\n",
        "# 매 epoch마다 모델이 출력한 high-resolution image를 저장할 수 있도록 하였다\n",
        "def validate(model, data_dl, epoch):\n",
        "    # epoch는 이미지를 저장할때, 이미지의 이름으로 사용\n",
        "    \n",
        "    model.eval()\n",
        "    running_loss = 0.0\n",
        "    running_psnr = 0.0\n",
        "    with torch.no_grad():\n",
        "        for ba, data in enumerate(data_dl):\n",
        "            image = data[0].to(device)\n",
        "            label = data[1].to(device)\n",
        "\n",
        "            outputs = model(image)\n",
        "            loss = loss_func(outputs, label)\n",
        "\n",
        "            running_loss += loss.item()\n",
        "            batch_psnr = psnr(label,outputs)\n",
        "            running_psnr += batch_psnr\n",
        "\n",
        "        outputs = outputs.cpu()\n",
        "        # tensor를 입력받아 이미지 파일로 저장합니다.\n",
        "        save_image(outputs, f'/content/outputs/{epoch}.png')\n",
        "    \n",
        "    final_loss = running_loss / len(data_dl.dataset)\n",
        "    final_psnr = running_psnr / int(len(val_ds)/data_dl.batch_size)\n",
        "    return final_loss, final_psnr"
      ],
      "metadata": {
        "id": "ByElsK0G4GOy"
      },
      "execution_count": 13,
      "outputs": []
    },
    {
      "cell_type": "code",
      "source": [
        "# 이미지를 저장할 폴더 생성\n",
        "!mkdir outputs"
      ],
      "metadata": {
        "id": "F-A1IbWF4aHS"
      },
      "execution_count": 14,
      "outputs": []
    },
    {
      "cell_type": "code",
      "source": [
        "# 학습 진행하기. 100Epoch학습\n",
        "num_epochs = 100\n",
        "\n",
        "train_loss, val_loss = [], []\n",
        "train_psnr, val_psnr = [], []\n",
        "start = time.time()\n",
        "for epoch in range(num_epochs):\n",
        "  print(f'Epoch {epoch + 1} of {num_epochs}')\n",
        "  train_epoch_loss, train_epoch_psnr = train(model, train_dl)\n",
        "  val_epoch_loss, val_epoch_psnr = validate(model, val_dl, epoch)\n",
        "\n",
        "  train_loss.append(train_epoch_loss)\n",
        "  train_psnr.append(train_epoch_psnr)\n",
        "  val_loss.append(val_epoch_loss)\n",
        "  val_psnr.append(val_epoch_psnr)\n",
        "  end = time.time()\n",
        "  print(f'Train PSNR: {train_epoch_psnr:.3f}, Val PSNR: {val_epoch_psnr:.3f}, Time: {end-start:.2f} sec')"
      ],
      "metadata": {
        "colab": {
          "base_uri": "https://localhost:8080/"
        },
        "id": "57RDTKy14kR6",
        "outputId": "6626c73d-9e13-42cf-ccaf-800a4e4d22bd"
      },
      "execution_count": 15,
      "outputs": [
        {
          "output_type": "stream",
          "name": "stdout",
          "text": [
            "Epoch 1 of 100\n",
            "Train PSNR: 46.429, Val PSNR: 64.509, Time: 8.65 sec\n",
            "Epoch 2 of 100\n",
            "Train PSNR: 61.570, Val PSNR: 58.921, Time: 10.96 sec\n",
            "Epoch 3 of 100\n",
            "Train PSNR: 58.671, Val PSNR: 73.945, Time: 13.28 sec\n",
            "Epoch 4 of 100\n",
            "Train PSNR: 59.259, Val PSNR: 62.767, Time: 15.58 sec\n",
            "Epoch 5 of 100\n",
            "Train PSNR: 62.517, Val PSNR: 59.973, Time: 17.89 sec\n",
            "Epoch 6 of 100\n",
            "Train PSNR: 62.657, Val PSNR: 53.257, Time: 20.19 sec\n",
            "Epoch 7 of 100\n",
            "Train PSNR: 59.960, Val PSNR: 58.823, Time: 22.51 sec\n",
            "Epoch 8 of 100\n",
            "Train PSNR: 59.224, Val PSNR: 64.254, Time: 24.82 sec\n",
            "Epoch 9 of 100\n",
            "Train PSNR: 59.668, Val PSNR: 72.953, Time: 27.13 sec\n",
            "Epoch 10 of 100\n",
            "Train PSNR: 56.445, Val PSNR: 53.530, Time: 29.44 sec\n",
            "Epoch 11 of 100\n",
            "Train PSNR: 58.926, Val PSNR: 46.217, Time: 32.17 sec\n",
            "Epoch 12 of 100\n",
            "Train PSNR: 56.159, Val PSNR: 72.285, Time: 34.66 sec\n",
            "Epoch 13 of 100\n",
            "Train PSNR: 54.006, Val PSNR: 62.225, Time: 36.97 sec\n",
            "Epoch 14 of 100\n",
            "Train PSNR: 54.464, Val PSNR: 56.472, Time: 39.28 sec\n",
            "Epoch 15 of 100\n",
            "Train PSNR: 54.557, Val PSNR: 49.903, Time: 41.59 sec\n",
            "Epoch 16 of 100\n",
            "Train PSNR: 54.974, Val PSNR: 62.317, Time: 43.91 sec\n",
            "Epoch 17 of 100\n",
            "Train PSNR: 55.546, Val PSNR: 51.870, Time: 46.23 sec\n",
            "Epoch 18 of 100\n",
            "Train PSNR: 52.308, Val PSNR: 46.290, Time: 48.55 sec\n",
            "Epoch 19 of 100\n",
            "Train PSNR: 53.513, Val PSNR: 50.800, Time: 50.86 sec\n",
            "Epoch 20 of 100\n",
            "Train PSNR: 56.171, Val PSNR: 53.039, Time: 53.17 sec\n",
            "Epoch 21 of 100\n",
            "Train PSNR: 56.131, Val PSNR: 48.594, Time: 55.49 sec\n",
            "Epoch 22 of 100\n",
            "Train PSNR: 52.916, Val PSNR: 50.038, Time: 57.80 sec\n",
            "Epoch 23 of 100\n",
            "Train PSNR: 53.942, Val PSNR: 45.849, Time: 60.10 sec\n",
            "Epoch 24 of 100\n",
            "Train PSNR: 53.359, Val PSNR: 60.420, Time: 62.41 sec\n",
            "Epoch 25 of 100\n",
            "Train PSNR: 54.319, Val PSNR: 67.627, Time: 64.72 sec\n",
            "Epoch 26 of 100\n",
            "Train PSNR: 55.843, Val PSNR: 52.021, Time: 67.04 sec\n",
            "Epoch 27 of 100\n",
            "Train PSNR: 52.222, Val PSNR: 53.296, Time: 69.36 sec\n",
            "Epoch 28 of 100\n",
            "Train PSNR: 53.160, Val PSNR: 77.990, Time: 71.67 sec\n",
            "Epoch 29 of 100\n",
            "Train PSNR: 53.529, Val PSNR: 60.844, Time: 74.00 sec\n",
            "Epoch 30 of 100\n",
            "Train PSNR: 53.217, Val PSNR: 48.511, Time: 76.33 sec\n",
            "Epoch 31 of 100\n",
            "Train PSNR: 55.136, Val PSNR: 60.171, Time: 78.63 sec\n",
            "Epoch 32 of 100\n",
            "Train PSNR: 53.107, Val PSNR: 40.796, Time: 80.95 sec\n",
            "Epoch 33 of 100\n",
            "Train PSNR: 53.392, Val PSNR: 72.551, Time: 83.26 sec\n",
            "Epoch 34 of 100\n",
            "Train PSNR: 52.928, Val PSNR: 44.804, Time: 85.57 sec\n",
            "Epoch 35 of 100\n",
            "Train PSNR: 55.243, Val PSNR: 53.395, Time: 87.87 sec\n",
            "Epoch 36 of 100\n",
            "Train PSNR: 55.801, Val PSNR: 53.374, Time: 90.19 sec\n",
            "Epoch 37 of 100\n",
            "Train PSNR: 51.016, Val PSNR: 53.677, Time: 92.51 sec\n",
            "Epoch 38 of 100\n",
            "Train PSNR: 55.063, Val PSNR: 50.076, Time: 94.82 sec\n",
            "Epoch 39 of 100\n",
            "Train PSNR: 54.552, Val PSNR: 49.909, Time: 97.14 sec\n",
            "Epoch 40 of 100\n",
            "Train PSNR: 54.302, Val PSNR: 39.605, Time: 99.45 sec\n",
            "Epoch 41 of 100\n",
            "Train PSNR: 53.032, Val PSNR: 52.136, Time: 102.28 sec\n",
            "Epoch 42 of 100\n",
            "Train PSNR: 53.476, Val PSNR: 46.817, Time: 105.02 sec\n",
            "Epoch 43 of 100\n",
            "Train PSNR: 53.078, Val PSNR: 60.653, Time: 107.34 sec\n",
            "Epoch 44 of 100\n",
            "Train PSNR: 54.281, Val PSNR: 63.551, Time: 111.40 sec\n",
            "Epoch 45 of 100\n",
            "Train PSNR: 51.020, Val PSNR: 46.159, Time: 115.26 sec\n",
            "Epoch 46 of 100\n",
            "Train PSNR: 54.303, Val PSNR: 52.659, Time: 118.77 sec\n",
            "Epoch 47 of 100\n",
            "Train PSNR: 55.100, Val PSNR: 58.935, Time: 122.39 sec\n",
            "Epoch 48 of 100\n",
            "Train PSNR: 52.822, Val PSNR: 51.440, Time: 125.09 sec\n",
            "Epoch 49 of 100\n",
            "Train PSNR: 57.428, Val PSNR: 59.831, Time: 127.76 sec\n",
            "Epoch 50 of 100\n",
            "Train PSNR: 53.252, Val PSNR: 45.749, Time: 130.35 sec\n",
            "Epoch 51 of 100\n",
            "Train PSNR: 53.670, Val PSNR: 47.139, Time: 132.94 sec\n",
            "Epoch 52 of 100\n",
            "Train PSNR: 52.557, Val PSNR: 77.926, Time: 135.50 sec\n",
            "Epoch 53 of 100\n",
            "Train PSNR: 51.840, Val PSNR: 54.695, Time: 137.81 sec\n",
            "Epoch 54 of 100\n",
            "Train PSNR: 50.281, Val PSNR: 56.355, Time: 140.12 sec\n",
            "Epoch 55 of 100\n",
            "Train PSNR: 52.770, Val PSNR: 48.889, Time: 142.42 sec\n",
            "Epoch 56 of 100\n",
            "Train PSNR: 52.423, Val PSNR: 42.749, Time: 144.93 sec\n",
            "Epoch 57 of 100\n",
            "Train PSNR: 53.275, Val PSNR: 55.587, Time: 148.02 sec\n",
            "Epoch 58 of 100\n",
            "Train PSNR: 56.836, Val PSNR: 47.851, Time: 150.48 sec\n",
            "Epoch 59 of 100\n",
            "Train PSNR: 53.611, Val PSNR: 48.937, Time: 153.05 sec\n",
            "Epoch 60 of 100\n",
            "Train PSNR: 53.113, Val PSNR: 46.815, Time: 155.59 sec\n",
            "Epoch 61 of 100\n",
            "Train PSNR: 50.812, Val PSNR: 55.012, Time: 158.26 sec\n",
            "Epoch 62 of 100\n",
            "Train PSNR: 50.436, Val PSNR: 41.658, Time: 160.70 sec\n",
            "Epoch 63 of 100\n",
            "Train PSNR: 53.337, Val PSNR: 58.613, Time: 163.21 sec\n",
            "Epoch 64 of 100\n",
            "Train PSNR: 52.310, Val PSNR: 59.692, Time: 165.69 sec\n",
            "Epoch 65 of 100\n",
            "Train PSNR: 51.773, Val PSNR: 36.702, Time: 168.13 sec\n",
            "Epoch 66 of 100\n",
            "Train PSNR: 52.211, Val PSNR: 55.607, Time: 170.62 sec\n",
            "Epoch 67 of 100\n",
            "Train PSNR: 51.780, Val PSNR: 64.974, Time: 173.17 sec\n",
            "Epoch 68 of 100\n",
            "Train PSNR: 51.380, Val PSNR: 61.905, Time: 175.76 sec\n",
            "Epoch 69 of 100\n",
            "Train PSNR: 55.065, Val PSNR: 54.120, Time: 178.28 sec\n",
            "Epoch 70 of 100\n",
            "Train PSNR: 55.989, Val PSNR: 41.835, Time: 180.80 sec\n",
            "Epoch 71 of 100\n",
            "Train PSNR: 52.188, Val PSNR: 38.413, Time: 183.51 sec\n",
            "Epoch 72 of 100\n",
            "Train PSNR: 51.067, Val PSNR: 63.175, Time: 186.08 sec\n",
            "Epoch 73 of 100\n",
            "Train PSNR: 51.357, Val PSNR: 43.584, Time: 188.82 sec\n",
            "Epoch 74 of 100\n",
            "Train PSNR: 50.358, Val PSNR: 62.162, Time: 191.27 sec\n",
            "Epoch 75 of 100\n",
            "Train PSNR: 53.338, Val PSNR: 64.901, Time: 193.81 sec\n",
            "Epoch 76 of 100\n",
            "Train PSNR: 53.100, Val PSNR: 52.914, Time: 196.31 sec\n",
            "Epoch 77 of 100\n",
            "Train PSNR: 50.017, Val PSNR: 47.166, Time: 198.75 sec\n",
            "Epoch 78 of 100\n",
            "Train PSNR: 52.736, Val PSNR: 50.541, Time: 201.52 sec\n",
            "Epoch 79 of 100\n",
            "Train PSNR: 55.949, Val PSNR: 53.680, Time: 204.47 sec\n",
            "Epoch 80 of 100\n",
            "Train PSNR: 53.673, Val PSNR: 62.055, Time: 207.79 sec\n",
            "Epoch 81 of 100\n",
            "Train PSNR: 51.103, Val PSNR: 51.145, Time: 211.26 sec\n",
            "Epoch 82 of 100\n",
            "Train PSNR: 51.512, Val PSNR: 43.391, Time: 213.83 sec\n",
            "Epoch 83 of 100\n",
            "Train PSNR: 51.814, Val PSNR: 53.538, Time: 216.26 sec\n",
            "Epoch 84 of 100\n",
            "Train PSNR: 51.262, Val PSNR: 48.601, Time: 218.71 sec\n",
            "Epoch 85 of 100\n",
            "Train PSNR: 51.058, Val PSNR: 47.929, Time: 221.17 sec\n",
            "Epoch 86 of 100\n",
            "Train PSNR: 50.932, Val PSNR: 44.166, Time: 223.83 sec\n",
            "Epoch 87 of 100\n",
            "Train PSNR: 54.617, Val PSNR: 46.155, Time: 226.57 sec\n",
            "Epoch 88 of 100\n",
            "Train PSNR: 52.080, Val PSNR: 41.286, Time: 229.05 sec\n",
            "Epoch 89 of 100\n",
            "Train PSNR: 51.693, Val PSNR: 52.849, Time: 231.49 sec\n",
            "Epoch 90 of 100\n",
            "Train PSNR: 50.499, Val PSNR: 42.261, Time: 233.97 sec\n",
            "Epoch 91 of 100\n",
            "Train PSNR: 50.128, Val PSNR: 49.360, Time: 236.82 sec\n",
            "Epoch 92 of 100\n",
            "Train PSNR: 51.795, Val PSNR: 62.631, Time: 239.23 sec\n",
            "Epoch 93 of 100\n",
            "Train PSNR: 50.592, Val PSNR: 55.049, Time: 242.01 sec\n",
            "Epoch 94 of 100\n",
            "Train PSNR: 50.840, Val PSNR: 50.600, Time: 244.75 sec\n",
            "Epoch 95 of 100\n",
            "Train PSNR: 51.263, Val PSNR: 42.409, Time: 247.16 sec\n",
            "Epoch 96 of 100\n",
            "Train PSNR: 51.928, Val PSNR: 52.134, Time: 249.60 sec\n",
            "Epoch 97 of 100\n",
            "Train PSNR: 49.347, Val PSNR: 56.438, Time: 252.32 sec\n",
            "Epoch 98 of 100\n",
            "Train PSNR: 57.887, Val PSNR: 44.381, Time: 255.00 sec\n",
            "Epoch 99 of 100\n",
            "Train PSNR: 50.562, Val PSNR: 51.056, Time: 257.49 sec\n",
            "Epoch 100 of 100\n",
            "Train PSNR: 52.416, Val PSNR: 51.198, Time: 260.16 sec\n"
          ]
        }
      ]
    },
    {
      "cell_type": "code",
      "source": [
        "# Train_loss, Validation Loss 시각화하기\n",
        "plt.figure(figsize=(10, 7))\n",
        "plt.plot(train_loss, color='orange', label='train loss')\n",
        "plt.plot(val_loss, color='red', label='validataion loss')\n",
        "plt.xlabel('Epochs')\n",
        "plt.ylabel('Loss')\n",
        "plt.legend()\n",
        "plt.show()\n",
        "\n",
        "# Train_PSNR, Validation_PSNR 시각화하기\n",
        "plt.figure(figsize=(10, 7))\n",
        "plt.plot(train_psnr, color='green', label='train PSNR dB')\n",
        "plt.plot(val_psnr, color='blue', label='validataion PSNR dB')\n",
        "plt.xlabel('Epochs')\n",
        "plt.ylabel('PSNR (dB)')\n",
        "plt.legend()\n",
        "plt.show()"
      ],
      "metadata": {
        "colab": {
          "base_uri": "https://localhost:8080/",
          "height": 873
        },
        "id": "t9ZyIxaN527T",
        "outputId": "8b677593-7b3f-46fb-d872-56f06849b355"
      },
      "execution_count": 16,
      "outputs": [
        {
          "output_type": "display_data",
          "data": {
            "text/plain": [
              "<Figure size 720x504 with 1 Axes>"
            ],
            "image/png": "[encoded data removed]"
          },
          "metadata": {
            "needs_background": "light"
          }
        },
        {
          "output_type": "display_data",
          "data": {
            "text/plain": [
              "<Figure size 720x504 with 1 Axes>"
            ],
            "image/png": "[encoded data removed]"
          },
          "metadata": {
            "needs_background": "light"
          }
        }
      ]
    },
    {
      "cell_type": "code",
      "source": [
        "# SRCNN의 해상도 복원 성능 확인해보기\n",
        "for img, label in val_dl:\n",
        "  img = img[0] # 첫 batch의 첫 번째 이미지\n",
        "  label = label[0]\n",
        "  break\n",
        "\n",
        "# Super - Resolution\n",
        "model.eval()\n",
        "with torch.no_grad():\n",
        "  img_ = img.unsqueeze(0) # batch 차원을 만들어준다\n",
        "  img_ = img_.to(device) # GPU에 load\n",
        "  output = model(img_) # 모델에 저해상도 이미지를 입력해 고해상도 이미지 출력\n",
        "  output = output.squeeze(0) # 다시 일반 이미지 차원 (3차원)으로 만들기\n",
        "\n",
        "plt.figure(figsize=(15,15))\n",
        "\n",
        "# 입력된 저해상도 이미지 출력\n",
        "plt.subplot(1,3,1)\n",
        "plt.imshow(to_pil_image(img))\n",
        "plt.title(\"input\")\n",
        "\n",
        "# 모델이 출력한 고해상도 이미지 출력\n",
        "plt.subplot(1,3,2)\n",
        "plt.imshow(to_pil_image(output))\n",
        "plt.title(\"output\")\n",
        "\n",
        "# 원본 고해상도 이미지 출력\n",
        "plt.subplot(1,3,3)\n",
        "plt.imshow(to_pil_image(label))\n",
        "plt.title(\"ground_truth\")"
      ],
      "metadata": {
        "colab": {
          "base_uri": "https://localhost:8080/",
          "height": 329
        },
        "id": "NRvkFNMA6BWy",
        "outputId": "d4e5fd9e-29d3-422f-a95f-5bfceed56d81"
      },
      "execution_count": 18,
      "outputs": [
        {
          "output_type": "execute_result",
          "data": {
            "text/plain": [
              "Text(0.5, 1.0, 'ground_truth')"
            ]
          },
          "metadata": {},
          "execution_count": 18
        },
        {
          "output_type": "display_data",
          "data": {
            "text/plain": [
              "<Figure size 1080x1080 with 3 Axes>"
            ],
            "image/png": "[encoded data removed]"
          },
          "metadata": {
            "needs_background": "light"
          }
        }
      ]
    }
  ]
}